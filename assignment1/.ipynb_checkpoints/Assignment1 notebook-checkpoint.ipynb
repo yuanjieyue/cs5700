{
 "cells": [
  {
   "cell_type": "code",
   "execution_count": 1,
   "metadata": {},
   "outputs": [],
   "source": [
    "import struct"
   ]
  },
  {
   "cell_type": "code",
   "execution_count": 2,
   "metadata": {},
   "outputs": [],
   "source": [
    "from struct import *"
   ]
  },
  {
   "cell_type": "code",
   "execution_count": 3,
   "metadata": {},
   "outputs": [
    {
     "data": {
      "text/plain": [
       "b'\\x01\\x00\\x02\\x00\\x00\\x00\\x00\\x00\\x03\\x00\\x00\\x00\\x00\\x00\\x00\\x00'"
      ]
     },
     "execution_count": 3,
     "metadata": {},
     "output_type": "execute_result"
    }
   ],
   "source": [
    "pack('hhl', 1, 2, 3)"
   ]
  },
  {
   "cell_type": "code",
   "execution_count": 4,
   "metadata": {},
   "outputs": [
    {
     "data": {
      "text/plain": [
       "b'\\x01\\x00\\x02\\x00\\x00\\x00\\x00\\x00\\x03\\x00\\x00\\x00\\x00\\x00\\x00\\x00'"
      ]
     },
     "execution_count": 4,
     "metadata": {},
     "output_type": "execute_result"
    }
   ],
   "source": [
    "pack('@hhl', 1, 2, 3)"
   ]
  },
  {
   "cell_type": "code",
   "execution_count": 5,
   "metadata": {},
   "outputs": [
    {
     "data": {
      "text/plain": [
       "b'\\x01\\x00\\x02\\x00\\x03\\x00\\x00\\x00'"
      ]
     },
     "execution_count": 5,
     "metadata": {},
     "output_type": "execute_result"
    }
   ],
   "source": [
    "pack('=hhl', 1, 2, 3)"
   ]
  },
  {
   "cell_type": "code",
   "execution_count": 6,
   "metadata": {},
   "outputs": [
    {
     "data": {
      "text/plain": [
       "b'\\x01\\x00\\x02\\x00\\x03\\x00\\x00\\x00'"
      ]
     },
     "execution_count": 6,
     "metadata": {},
     "output_type": "execute_result"
    }
   ],
   "source": [
    "pack('<hhl', 1, 2, 3)"
   ]
  },
  {
   "cell_type": "code",
   "execution_count": 7,
   "metadata": {},
   "outputs": [
    {
     "data": {
      "text/plain": [
       "b'\\x00\\x01\\x00\\x02\\x00\\x00\\x00\\x03'"
      ]
     },
     "execution_count": 7,
     "metadata": {},
     "output_type": "execute_result"
    }
   ],
   "source": [
    "pack('>hhl', 1, 2, 3)"
   ]
  },
  {
   "cell_type": "code",
   "execution_count": 8,
   "metadata": {},
   "outputs": [
    {
     "data": {
      "text/plain": [
       "b'\\x00\\x01\\x00\\x02\\x00\\x00\\x00\\x03'"
      ]
     },
     "execution_count": 8,
     "metadata": {},
     "output_type": "execute_result"
    }
   ],
   "source": [
    "pack('!hhl', 1, 2, 3)"
   ]
  },
  {
   "cell_type": "code",
   "execution_count": 9,
   "metadata": {},
   "outputs": [
    {
     "data": {
      "text/plain": [
       "b'\\x01\\x00\\x02\\x00\\x03\\x00'"
      ]
     },
     "execution_count": 9,
     "metadata": {},
     "output_type": "execute_result"
    }
   ],
   "source": [
    "pack('@hhh', 1, 2, 3)"
   ]
  },
  {
   "cell_type": "code",
   "execution_count": 10,
   "metadata": {},
   "outputs": [
    {
     "data": {
      "text/plain": [
       "b'\\x01\\x00\\x02\\x00\\x00\\x00\\x00\\x00\\x03\\x00\\x00\\x00\\x00\\x00\\x00\\x00'"
      ]
     },
     "execution_count": 10,
     "metadata": {},
     "output_type": "execute_result"
    }
   ],
   "source": [
    "pack('@hhl', 1, 2, 3)"
   ]
  },
  {
   "cell_type": "code",
   "execution_count": 11,
   "metadata": {},
   "outputs": [
    {
     "data": {
      "text/plain": [
       "b'\\x01\\x00\\x02\\x00\\x00\\x00\\x00\\x00\\x03\\x00\\x00\\x00\\x00\\x00\\x00\\x00'"
      ]
     },
     "execution_count": 11,
     "metadata": {},
     "output_type": "execute_result"
    }
   ],
   "source": [
    "pack('hhl', 1, 2, 3)"
   ]
  },
  {
   "cell_type": "code",
   "execution_count": 12,
   "metadata": {},
   "outputs": [
    {
     "data": {
      "text/plain": [
       "(1, 2, 3)"
      ]
     },
     "execution_count": 12,
     "metadata": {},
     "output_type": "execute_result"
    }
   ],
   "source": [
    "unpack('>hhl', b'\\x00\\x01\\x00\\x02\\x00\\x00\\x00\\x03')"
   ]
  },
  {
   "cell_type": "code",
   "execution_count": 13,
   "metadata": {},
   "outputs": [
    {
     "data": {
      "text/plain": [
       "(256, 512, 50331648)"
      ]
     },
     "execution_count": 13,
     "metadata": {},
     "output_type": "execute_result"
    }
   ],
   "source": [
    "unpack('<hhl', b'\\x00\\x01\\x00\\x02\\x00\\x00\\x00\\x03')"
   ]
  },
  {
   "cell_type": "code",
   "execution_count": 14,
   "metadata": {},
   "outputs": [
    {
     "data": {
      "text/plain": [
       "(1, 2, 3)"
      ]
     },
     "execution_count": 14,
     "metadata": {},
     "output_type": "execute_result"
    }
   ],
   "source": [
    "unpack('!hhl', b'\\x00\\x01\\x00\\x02\\x00\\x00\\x00\\x03')"
   ]
  },
  {
   "cell_type": "code",
   "execution_count": 15,
   "metadata": {},
   "outputs": [
    {
     "data": {
      "text/plain": [
       "b'\\x01\\x00\\x00\\x00\\x00\\x00\\x00\\x00\\x02\\x00\\x00\\x00\\x00\\x00\\x00\\x00\\x03\\x00\\x00\\x00\\x00\\x00\\x00\\x00'"
      ]
     },
     "execution_count": 15,
     "metadata": {},
     "output_type": "execute_result"
    }
   ],
   "source": [
    "pack('llh0l', 1, 2, 3)"
   ]
  },
  {
   "cell_type": "code",
   "execution_count": 16,
   "metadata": {},
   "outputs": [],
   "source": [
    "packed_data = pack('llh0l', 1, 2, 3)"
   ]
  },
  {
   "cell_type": "code",
   "execution_count": 17,
   "metadata": {},
   "outputs": [
    {
     "name": "stdout",
     "output_type": "stream",
     "text": [
      "Packed Value   : b'010000000000000002000000000000000300000000000000'\n"
     ]
    }
   ],
   "source": [
    "import binascii\n",
    "print ('Packed Value   :', binascii.hexlify(packed_data))"
   ]
  },
  {
   "cell_type": "code",
   "execution_count": 18,
   "metadata": {},
   "outputs": [
    {
     "name": "stdout",
     "output_type": "stream",
     "text": [
      "b'\\x05\\x00\\n\\x00\\x00\\x00\\x00\\x00\\x0f\\x00\\x00\\x00\\x00\\x00\\x00\\x00'\n",
      "(5, 10, 15)\n"
     ]
    }
   ],
   "source": [
    "\n",
    "var = struct.pack('hhl', 5, 10, 15)\n",
    "print(var)\n",
    "print(struct.unpack('hhl', var))"
   ]
  },
  {
   "cell_type": "code",
   "execution_count": 19,
   "metadata": {},
   "outputs": [
    {
     "name": "stdout",
     "output_type": "stream",
     "text": [
      "128\n",
      "None\n",
      "(5, 10, 15)\n",
      "None\n",
      "(6, 11, 12)\n"
     ]
    }
   ],
   "source": [
    "# ctypes is imported to create a string buffer\n",
    "import ctypes\n",
    "\n",
    "# As shown in previous example\n",
    "size = 128\n",
    "print(size)\n",
    "\n",
    "# Buffer 'buff' is created from ctypes\n",
    "buff = ctypes.create_string_buffer(size)\n",
    "\n",
    "# struct.pack_into() packs data into buff and it doesn't return any value\n",
    "# struct.unpack_from() unpacks data from buff, returns a tuple of values\n",
    "print(struct.pack_into('hhl', buff, 0, 5, 10, 15))\n",
    "print(struct.unpack_from('hhl', buff, 0))\n",
    "print(struct.pack_into('hhl', buff, 17, 6, 11, 12))\n",
    "print(struct.unpack_from('hhl', buff, 17))"
   ]
  },
  {
   "cell_type": "code",
   "execution_count": 20,
   "metadata": {},
   "outputs": [
    {
     "name": "stdout",
     "output_type": "stream",
     "text": [
      "packed data: b'\\x01\\x00\\x00\\x003 + 2\\x00\\x00\\x00\\x00\\x80\\x83B'\n",
      "unpacked data: (1, b'3 + 2', 65.75)\n"
     ]
    }
   ],
   "source": [
    "student=[1, b'3 + 2', 65.75]\n",
    "packed=struct.pack('I 5s f', *student)\n",
    "print ('packed data:',packed)\n",
    "\n",
    "unpacked=struct.unpack('I 5s f', packed)\n",
    "print ('unpacked data:',unpacked)"
   ]
  },
  {
   "cell_type": "code",
   "execution_count": 21,
   "metadata": {},
   "outputs": [
    {
     "data": {
      "text/plain": [
       "12"
      ]
     },
     "execution_count": 21,
     "metadata": {},
     "output_type": "execute_result"
    }
   ],
   "source": [
    "struct.calcsize('I 4s f')"
   ]
  },
  {
   "cell_type": "code",
   "execution_count": null,
   "metadata": {},
   "outputs": [],
   "source": []
  },
  {
   "cell_type": "code",
   "execution_count": 22,
   "metadata": {},
   "outputs": [
    {
     "name": "stdout",
     "output_type": "stream",
     "text": [
      "Hostname:  Lius-MacBook-Pro.local\n",
      "Connected to server  Lius-MacBook-Pro.local\n",
      "How many expressions would you like to calculate?2\n",
      "I would you like to calculate 2 expressions.\n",
      "Type in an expression2\n",
      "Type in an expression2\n",
      "[2, b'2', b'2']\n",
      "['h', '1s', '1s']\n",
      "h 1s 1s\n",
      "message size is: 4\n",
      "packed data: <ctypes.c_char_Array_4 object at 0x10a1f37a0>\n",
      "packed value: b'02003232'\n"
     ]
    },
    {
     "ename": "KeyboardInterrupt",
     "evalue": "",
     "output_type": "error",
     "traceback": [
      "\u001b[0;31m---------------------------------------------------------------------------\u001b[0m",
      "\u001b[0;31mKeyboardInterrupt\u001b[0m                         Traceback (most recent call last)",
      "\u001b[0;32m<ipython-input-22-404fc4e9aa45>\u001b[0m in \u001b[0;36m<module>\u001b[0;34m\u001b[0m\n\u001b[1;32m    112\u001b[0m \u001b[0;32mfor\u001b[0m \u001b[0mline\u001b[0m \u001b[0;32min\u001b[0m \u001b[0mmessageToSend\u001b[0m\u001b[0;34m:\u001b[0m\u001b[0;34m\u001b[0m\u001b[0;34m\u001b[0m\u001b[0m\n\u001b[1;32m    113\u001b[0m     \u001b[0ms\u001b[0m\u001b[0;34m.\u001b[0m\u001b[0msendall\u001b[0m\u001b[0;34m(\u001b[0m\u001b[0mstr\u001b[0m\u001b[0;34m.\u001b[0m\u001b[0mencode\u001b[0m\u001b[0;34m(\u001b[0m\u001b[0mline\u001b[0m\u001b[0;34m,\u001b[0m \u001b[0;34m'utf-8'\u001b[0m\u001b[0;34m)\u001b[0m\u001b[0;34m)\u001b[0m\u001b[0;34m\u001b[0m\u001b[0;34m\u001b[0m\u001b[0m\n\u001b[0;32m--> 114\u001b[0;31m     \u001b[0mdata\u001b[0m \u001b[0;34m=\u001b[0m \u001b[0ms\u001b[0m\u001b[0;34m.\u001b[0m\u001b[0mrecv\u001b[0m\u001b[0;34m(\u001b[0m\u001b[0mbufsize\u001b[0m\u001b[0;34m)\u001b[0m\u001b[0;34m\u001b[0m\u001b[0;34m\u001b[0m\u001b[0m\n\u001b[0m\u001b[1;32m    115\u001b[0m     \u001b[0mprint\u001b[0m\u001b[0;34m(\u001b[0m\u001b[0;34m'Client received: '\u001b[0m\u001b[0;34m,\u001b[0m \u001b[0mdata\u001b[0m\u001b[0;34m)\u001b[0m\u001b[0;34m\u001b[0m\u001b[0;34m\u001b[0m\u001b[0m\n\u001b[1;32m    116\u001b[0m \u001b[0;34m\u001b[0m\u001b[0m\n",
      "\u001b[0;31mKeyboardInterrupt\u001b[0m: "
     ]
    }
   ],
   "source": [
    "# # This example is using Python 3. \n",
    "# import socket\n",
    "# import struct\n",
    "# # ctypes is imported to create a string buffer\n",
    "# import ctypes\n",
    "# import binascii\n",
    "\n",
    "# # Specify server name and port number to connect to. \n",
    "# # \n",
    "# # API: getfqdn() \n",
    "# # returns a fully qualified domain name. \n",
    "# server_name = socket.getfqdn() \n",
    "# print('Hostname: ', server_name) \n",
    "# server_port = 8181\n",
    "\n",
    "# # Make a TCP socket object.\n",
    "# # \n",
    "# # API: socket(address_family, socket_type) \n",
    "# # \n",
    "# # Address family \n",
    "# # AF_INET: IPv4 \n",
    "# # AF_INET6: IPv6 \n",
    "# # \n",
    "# # Socket type \n",
    "# # SOCK_STREAM: TCP socket \n",
    "# # SOCK_DGRAM: UDP socket \n",
    "# s = socket.socket(socket.AF_INET, socket.SOCK_STREAM)\n",
    "\n",
    "# # Connect to server machine and port.\n",
    "# # \n",
    "# # API: connect(address) \n",
    "# # connect to a remote socket at the given address. \n",
    "# s.connect((server_name, server_port)) \n",
    "# print('Connected to server ', server_name)\n",
    "\n",
    "# # --------------------------------------\n",
    "# # ogrnize a message\n",
    "# # 1. expressionsNum\n",
    "# # 2. length of the 1st expression\n",
    "# # 3. 1st expression\n",
    "# # 4. length of the 2nd expression\n",
    "# # 5. 2nd expression\n",
    "# # .\n",
    "# # .\n",
    "# # .\n",
    "# # 6. length of the nth expression\n",
    "# # 7. nth expression\n",
    "# # Example: \n",
    "# # message = [2, 2, '1 + 2', 2, '3 + 2', ....., 2, '1 + 2']\n",
    "# # formatStr = [h, h, 5s, h, 5s ,..., h, 5s]\n",
    "\n",
    "# # a method to get all the input from the users\n",
    "# # messages to send to server.\n",
    "\n",
    "# message = []\n",
    "# formatStr = []\n",
    "# # ask about how many expressions to calculate\n",
    "# expressionsNum = int(input('How many expressions would you like to calculate?'))\n",
    "# print('I would you like to calculate {} expressions.'.format(expressionsNum))\n",
    "\n",
    "# # add expression number to message\n",
    "# message.append(expressionsNum)\n",
    "# formatStr.append('h')\n",
    "\n",
    "# # get all the expressions.\n",
    "# for i in range(expressionsNum):\n",
    "#     currentExpression = input('Type in an expression')\n",
    "#     message.append(currentExpression.encode('utf8'))\n",
    "#     # get the length of the current expression\n",
    "#     currLen = len(currentExpression)\n",
    "#     formatStr.append(str(currLen) + 's')\n",
    "#     # struct packinto method\n",
    "\n",
    "# print(message)\n",
    "# print(formatStr)\n",
    "# print(' '.join(formatStr))   \n",
    "    \n",
    "# size = struct.calcsize(' '.join(formatStr))\n",
    "# print('message size is: {}'.format(size))\n",
    "\n",
    "# buff = ctypes.create_string_buffer(size)\n",
    "# offset = 0\n",
    "# for i in range(len(message)):\n",
    "#     struct.pack_into(formatStr[i], buff, offset, message[i])\n",
    "#     offset += struct.calcsize(formatStr[i])\n",
    "# print ('packed data:', buff)\n",
    "# print ('packed value:', binascii.hexlify(buff))\n",
    "\n",
    "# messageToSend = [' '.join(formatStr), binascii.hexlify(buff)]\n",
    "\n",
    "# # # ---------------------------------------\n",
    "\n",
    "# # Send messages to server over socket.\n",
    "# # \n",
    "# # API: send(bytes) \n",
    "# # Sends data to the connected remote socket. Returns the number of \n",
    "# # bytes sent. Applications are responsible for checking that all \n",
    "# # data has been sent \n",
    "# # \n",
    "# # API: recv(bufsize) \n",
    "# # Receive data from the socket. The return value is a bytes object \n",
    "# # representing the data received. The maximum amount of data to be \n",
    "# # received at once is specified by 'bufsize'.\n",
    "\n",
    "# # \n",
    "# # API: sendall(bytes) \n",
    "# # Sends data to the connected remote socket. This method continues \n",
    "# # to send data from string until either all data has been sent or an \n",
    "# # error occurs.\n",
    "\n",
    "# bufsize = 16\n",
    "# for line in messageToSend:\n",
    "#     s.sendall(str.encode(line, 'utf-8')) \n",
    "#     data = s.recv(bufsize) \n",
    "#     print('Client received: ', data)\n",
    "\n",
    "# # Close socket to send EOF to server. \n",
    "# s.close()"
   ]
  },
  {
   "cell_type": "code",
   "execution_count": null,
   "metadata": {},
   "outputs": [],
   "source": []
  },
  {
   "cell_type": "code",
   "execution_count": null,
   "metadata": {},
   "outputs": [],
   "source": []
  },
  {
   "cell_type": "code",
   "execution_count": null,
   "metadata": {},
   "outputs": [],
   "source": []
  },
  {
   "cell_type": "code",
   "execution_count": null,
   "metadata": {},
   "outputs": [],
   "source": [
    "# import struct\n",
    "# # ctypes is imported to create a string buffer\n",
    "# import ctypes\n",
    "# import binascii\n",
    "\n",
    "# message = []\n",
    "# formatStr = []\n",
    "# # ask about how many expressions to calculate\n",
    "# expressionsNum = int(input('How many expressions would you like to calculate?'))\n",
    "# print('I would you like to calculate {} expressions.'.format(expressionsNum))\n",
    "\n",
    "# # add expression number to message\n",
    "# message.append(expressionsNum)\n",
    "# formatStr.append('h')\n",
    "\n",
    "# # get all the expressions.\n",
    "# for i in range(expressionsNum):\n",
    "#     currentExpression = input('Type in an expression')\n",
    "#     message.append(currentExpression.encode('utf8'))\n",
    "#     # get the length of the current expression\n",
    "#     currLen = len(currentExpression)\n",
    "#     formatStr.append(str(currLen) + 's')\n",
    "#     # struct packinto method\n",
    "\n",
    "# print(message)\n",
    "# print(formatStr)\n",
    "# print(' '.join(formatStr))   \n",
    "    \n",
    "# size = struct.calcsize(' '.join(formatStr))\n",
    "# print('message size is: {}'.format(size))\n",
    "\n",
    "# # if size > 16: # size > 16\n",
    "# buff = ctypes.create_string_buffer(size)\n",
    "# offset = 0\n",
    "# for i in range(len(message)):\n",
    "#     struct.pack_into(formatStr[i], buff, offset, message[i])\n",
    "#     offset += struct.calcsize(formatStr[i])\n",
    "# print ('packed data:', buff)\n",
    "# print ('packed value:', binascii.hexlify(buff))\n",
    "\n",
    "# # else: # size <= 16 \n",
    "# #     packed_data = struct.pack(' '.join(formatStr), *message)\n",
    "# #     print ('packed data:', packed_data)\n",
    "# #     print ('packed value:', binascii.hexlify(packed_data))"
   ]
  },
  {
   "cell_type": "code",
   "execution_count": null,
   "metadata": {},
   "outputs": [],
   "source": []
  },
  {
   "cell_type": "code",
   "execution_count": null,
   "metadata": {},
   "outputs": [],
   "source": []
  },
  {
   "cell_type": "code",
   "execution_count": null,
   "metadata": {},
   "outputs": [],
   "source": []
  },
  {
   "cell_type": "code",
   "execution_count": 23,
   "metadata": {},
   "outputs": [],
   "source": [
    "message = [2, 4, b'3+12', 6, b'1+12/3']\n",
    "data = struct.pack('h h 4s h 6s', *message)"
   ]
  },
  {
   "cell_type": "code",
   "execution_count": 24,
   "metadata": {},
   "outputs": [
    {
     "data": {
      "text/plain": [
       "b'\\x02\\x00\\x04\\x003+12\\x06\\x001+12/3'"
      ]
     },
     "execution_count": 24,
     "metadata": {},
     "output_type": "execute_result"
    }
   ],
   "source": [
    "data"
   ]
  },
  {
   "cell_type": "code",
   "execution_count": 25,
   "metadata": {},
   "outputs": [
    {
     "data": {
      "text/plain": [
       "16"
      ]
     },
     "execution_count": 25,
     "metadata": {},
     "output_type": "execute_result"
    }
   ],
   "source": [
    "struct.calcsize('h h 4s h 6s')"
   ]
  },
  {
   "cell_type": "code",
   "execution_count": 26,
   "metadata": {},
   "outputs": [
    {
     "data": {
      "text/plain": [
       "16"
      ]
     },
     "execution_count": 26,
     "metadata": {},
     "output_type": "execute_result"
    }
   ],
   "source": [
    "len(data)"
   ]
  },
  {
   "cell_type": "code",
   "execution_count": 27,
   "metadata": {},
   "outputs": [
    {
     "data": {
      "text/plain": [
       "6"
      ]
     },
     "execution_count": 27,
     "metadata": {},
     "output_type": "execute_result"
    }
   ],
   "source": [
    "len(b'3 + 12')"
   ]
  },
  {
   "cell_type": "code",
   "execution_count": 28,
   "metadata": {},
   "outputs": [
    {
     "data": {
      "text/plain": [
       "b'\\x02\\x00\\x04\\x003+12\\x06\\x001+12/3'"
      ]
     },
     "execution_count": 28,
     "metadata": {},
     "output_type": "execute_result"
    }
   ],
   "source": [
    "data"
   ]
  },
  {
   "cell_type": "markdown",
   "metadata": {},
   "source": [
    "beta = b'\\x02\\x00'"
   ]
  },
  {
   "cell_type": "code",
   "execution_count": 30,
   "metadata": {},
   "outputs": [],
   "source": [
    "beta= b'\\x02\\x00'"
   ]
  },
  {
   "cell_type": "code",
   "execution_count": 31,
   "metadata": {},
   "outputs": [
    {
     "data": {
      "text/plain": [
       "b'\\x02\\x00'"
      ]
     },
     "execution_count": 31,
     "metadata": {},
     "output_type": "execute_result"
    }
   ],
   "source": [
    "beta"
   ]
  },
  {
   "cell_type": "code",
   "execution_count": 32,
   "metadata": {},
   "outputs": [
    {
     "data": {
      "text/plain": [
       "b'\\x02\\x00\\x04\\x003+12\\x06\\x001+12/3\\x02\\x00'"
      ]
     },
     "execution_count": 32,
     "metadata": {},
     "output_type": "execute_result"
    }
   ],
   "source": [
    "data + beta"
   ]
  },
  {
   "cell_type": "code",
   "execution_count": 33,
   "metadata": {},
   "outputs": [],
   "source": [
    "data = data + beta"
   ]
  },
  {
   "cell_type": "code",
   "execution_count": 34,
   "metadata": {},
   "outputs": [
    {
     "data": {
      "text/plain": [
       "b'\\x02\\x00\\x04\\x003+12\\x06\\x001+12/3\\x02\\x00'"
      ]
     },
     "execution_count": 34,
     "metadata": {},
     "output_type": "execute_result"
    }
   ],
   "source": [
    "data"
   ]
  },
  {
   "cell_type": "code",
   "execution_count": null,
   "metadata": {},
   "outputs": [],
   "source": [
    "c = b'\\x02\\x00\\x06\\x003+12+2\\x08\\x001+12'"
   ]
  },
  {
   "cell_type": "code",
   "execution_count": null,
   "metadata": {},
   "outputs": [],
   "source": [
    "c"
   ]
  },
  {
   "cell_type": "code",
   "execution_count": null,
   "metadata": {},
   "outputs": [],
   "source": []
  }
 ],
 "metadata": {
  "kernelspec": {
   "display_name": "Python 3",
   "language": "python",
   "name": "python3"
  },
  "language_info": {
   "codemirror_mode": {
    "name": "ipython",
    "version": 3
   },
   "file_extension": ".py",
   "mimetype": "text/x-python",
   "name": "python",
   "nbconvert_exporter": "python",
   "pygments_lexer": "ipython3",
   "version": "3.7.4"
  }
 },
 "nbformat": 4,
 "nbformat_minor": 2
}
